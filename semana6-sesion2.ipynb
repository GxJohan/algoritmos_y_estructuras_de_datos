{
 "cells": [
  {
   "cell_type": "code",
   "id": "initial_id",
   "metadata": {
    "collapsed": true,
    "ExecuteTime": {
     "end_time": "2025-09-17T14:09:45.646719Z",
     "start_time": "2025-09-17T14:09:45.642046Z"
    }
   },
   "source": [
    "from IPython.core.inputtransformer2 import find_last_indent\n",
    "\n",
    "\n",
    "# Arreglo de tamaño fijo para usuarios\n",
    "class ArregloUsuarios:\n",
    "    def __init__(self,tamano_maximo):\n",
    "        self.usuarios = [None]*tamano_maximo #Arreglo tamaño fijo\n",
    "        self.cantidad = 0\n",
    "        self.tamano_maximo = tamano_maximo\n",
    "    def agregar_usuarios(self,nombre):\n",
    "        if self.cantidad >= self.tamano_maximo:\n",
    "            print(\"Error: Arreglo Lleno\")\n",
    "            return False\n",
    "        self.usuarios[self.cantidad] = nombre\n",
    "        self.cantidad += 1\n",
    "        print(\"Usuario Agregado\")\n",
    "        return True\n",
    "# Probando Limitaciones\n",
    "sistema = ArregloUsuarios(3)\n",
    "sistema.agregar_usuarios(\"Ana\")\n",
    "sistema.agregar_usuarios(\"Johan\")\n",
    "sistema.agregar_usuarios(\"Diana\")\n",
    "sistema.agregar_usuarios(\"Miguel\")"
   ],
   "outputs": [
    {
     "name": "stdout",
     "output_type": "stream",
     "text": [
      "Usuario Agregado\n",
      "Usuario Agregado\n",
      "Usuario Agregado\n",
      "Error: Arreglo Lleno\n"
     ]
    },
    {
     "data": {
      "text/plain": [
       "False"
      ]
     },
     "execution_count": 2,
     "metadata": {},
     "output_type": "execute_result"
    }
   ],
   "execution_count": 2
  },
  {
   "metadata": {
    "ExecuteTime": {
     "end_time": "2025-09-17T14:45:25.002732Z",
     "start_time": "2025-09-17T14:45:24.995178Z"
    }
   },
   "cell_type": "code",
   "source": [
    "# Implementación ejemplo de TAD\n",
    "# Agenda de Contactos\n",
    "class Contacto:\n",
    "    def __init__(self,nombre,telefono):\n",
    "        self.nombre = nombre\n",
    "        self.telefono = telefono\n",
    "    def __str__(self):\n",
    "        return f\"{self.nombre} - Tel: {self.telefono}\"\n",
    "\n",
    "class TADAgenda:\n",
    "    def __init__(self):\n",
    "        # Crea una agenda vacía\n",
    "        self._contactos = {} #Diccionario: nombre -> Contacto\n",
    "\n",
    "    def agregar_contacto(self,nombre,telefono):\n",
    "        # Añade un nuevo contacto. Si ya existe, lo actualiza\n",
    "        contacto = Contacto(nombre, telefono)\n",
    "        self._contactos[nombre] = contacto\n",
    "        print(f\"Contacto {nombre} actualizado\")\n",
    "\n",
    "    def buscar_contacto(self, nombre):\n",
    "        # Busca un contacto por nombre\n",
    "        return self._contactos.get(nombre,None)\n",
    "\n",
    "    def eliminar_contacto(self,nombre):\n",
    "        if nombre in self._contactos:\n",
    "            del self._contactos[nombre]\n",
    "            print(f\"Contacto {nombre} elimindado\")\n",
    "            return True\n",
    "        else:\n",
    "            print(f\"Contacto {nombre} no encontrado\")\n",
    "            return False\n",
    "\n",
    "    def listar_contactos(self):\n",
    "        if not self._contactos:\n",
    "            print(\"Agenda Vacia\")\n",
    "            return\n",
    "        print(\"Contactos en la agenda:\")\n",
    "        for contacto in self._contactos.values():\n",
    "            print(f\"{contacto}\")\n",
    "\n",
    "\n",
    "\n",
    "# Probando la AGENDA\n",
    "agenda = TADAgenda()\n",
    "agenda.agregar_contacto(\"Johan Max\", \"943992611\")\n",
    "agenda.agregar_contacto(\"Mercedes\", \"943913315\")\n",
    "#agenda.eliminar_contacto(\"Johan Max\")\n",
    "agenda.listar_contactos()\n"
   ],
   "id": "c9808d6937462fac",
   "outputs": [
    {
     "name": "stdout",
     "output_type": "stream",
     "text": [
      "Contacto Johan Max actualizado\n",
      "Contacto Mercedes actualizado\n",
      "Contactos en la agenda:\n",
      "Johan Max - Tel: 943992611\n",
      "Mercedes - Tel: 943913315\n"
     ]
    }
   ],
   "execution_count": 8
  }
 ],
 "metadata": {
  "kernelspec": {
   "display_name": "Python 3",
   "language": "python",
   "name": "python3"
  },
  "language_info": {
   "codemirror_mode": {
    "name": "ipython",
    "version": 2
   },
   "file_extension": ".py",
   "mimetype": "text/x-python",
   "name": "python",
   "nbconvert_exporter": "python",
   "pygments_lexer": "ipython2",
   "version": "2.7.6"
  }
 },
 "nbformat": 4,
 "nbformat_minor": 5
}
