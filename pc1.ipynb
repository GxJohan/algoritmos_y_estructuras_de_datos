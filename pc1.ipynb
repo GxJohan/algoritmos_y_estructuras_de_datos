{
 "cells": [
  {
   "cell_type": "markdown",
   "metadata": {},
   "source": [
    "# Práctica Calificada 1\n",
    "**Curso:** Algoritmos y Estructuras de Datos  \n",
    "**Universidad:** Universidad Tecnológica del Perú  \n",
    "\n",
    "**Nombre:** _______________  **Código:** _______________  **Fecha:** _______________\n",
    "\n",
    "## Instrucciones Generales\n",
    "\n",
    "Esta práctica calificada consta de **2 ejercicios** que evalúan tu dominio de arreglos en Python.\n",
    "\n",
    "- **Puntuación máxima:** 15 puntos\n",
    "- **Tiempo:** 90 minutos\n",
    "- Solo puedes usar funciones nativas de Python\n",
    "- Escribe tu código en las celdas correspondientes\n",
    "- Ejecuta cada celda para verificar que tu solución funciona correctamente\n",
    "- Lee cuidadosamente cada enunciado antes de programar\n",
    "\n",
    "**Importante:** No modifiques las celdas que contienen los datos iniciales."
   ]
  },
  {
   "cell_type": "markdown",
   "metadata": {},
   "source": [
    "---\n",
    "## Ejercicio 1: Sistema de Notas del Curso (6 puntos)\n",
    "\n",
    "Como ayudante del curso de Algoritmos y Estructuras de Datos, necesitas procesar las calificaciones de los estudiantes de una sección. Los datos iniciales son los siguientes:"
   ]
  },
  {
   "cell_type": "code",
   "execution_count": null,
   "metadata": {},
   "outputs": [],
   "source": [
    "# Datos iniciales - NO MODIFICAR\n",
    "estudiantes = [\"Rodriguez\", \"Gonzalez\", \"Martinez\", \"Lopez\", \"Silva\", \"Vargas\", \"Torres\"]\n",
    "notas_parcial = [14, 16, 12, 18, 15, 13, 17]\n",
    "notas_final = [16, 15, 14, 17, 16, 12, 18]\n",
    "\n",
    "print(\"=== REGISTRO DE NOTAS ACTUAL ===\")\n",
    "print(\"Estudiante\\t\\tParcial\\tFinal\")\n",
    "for i in range(len(estudiantes)):\n",
    "    print(f\"{estudiantes[i]}\\t\\t{notas_parcial[i]}\\t{notas_final[i]}\")"
   ]
  },
  {
   "cell_type": "markdown",
   "metadata": {},
   "source": [
    "**Desarrolla lo siguiente:**\n",
    "\n",
    "a) El docente decidió otorgar 1 punto adicional en el examen parcial a todos los estudiantes debido a un error en una pregunta.\n",
    "\n",
    "b) Calcula el promedio final de cada estudiante usando la fórmula: Promedio = (Parcial * 0.4) + (Final * 0.6)\n",
    "\n",
    "c) Crea una lista con los apellidos de los estudiantes que obtuvieron un promedio mayor o igual a 14.\n",
    "\n",
    "d) Identifica al estudiante con el promedio más alto y al estudiante con el promedio más bajo. Muestra el apellido y el promedio de ambos."
   ]
  },
  {
   "cell_type": "code",
   "execution_count": null,
   "metadata": {},
   "outputs": [],
   "source": [
    "# Datos iniciales - NO MODIFICAR\n",
    "estudiantes = [\"Rodriguez\", \"Gonzalez\", \"Martinez\", \"Lopez\", \"Silva\", \"Vargas\", \"Torres\"]\n",
    "notas_parcial = [14, 16, 12, 18, 15, 13, 17]\n",
    "notas_final = [16, 15, 14, 17, 16, 12, 18]\n",
    "\n",
    "print(\"=== REGISTRO DE NOTAS ACTUAL ===\")\n",
    "print(\"Estudiante\\t\\tParcial\\tFinal\")\n",
    "for i in range(len(estudiantes)):\n",
    "    print(f\"{estudiantes[i]}\\t\\t{notas_parcial[i]}\\t{notas_final[i]}\")\n",
    "\n",
    "## a) El docente decidió otorgar 1 punto adicional en el examen parcial a todos los estudiantes debido a un error en una pregunta.\n",
    "notas_parcial = [nota + 1 for nota in notas_parcial]\n",
    "\n",
    "## b) Calcula el promedio final de cada estudiante usando la fórmula: Promedio = (Parcial * 0.4) + (Final * 0.6)\n",
    "promedios = []\n",
    "print(\"\\n=== PROMEDIOS FINALES ===\")\n",
    "print(\"Estudiante\\t\\tPromedio Final\")\n",
    "for i in range (len(estudiantes)):\n",
    "    promedio = (notas_parcial[i] * 0.4) + (notas_final[i] * 0.6)\n",
    "    promedios.append(promedio)\n",
    "    print(f\"{estudiantes[i]}\\t\\t{promedio:.2f}\")\n",
    "\n",
    "\n",
    "## c) Crea una lista con los apellidos de los estudiantes que obtuvieron un promedio mayor o igual a 14.\n",
    "print(\"\\n=== LISTA DE LOS ESTUDIANTES CON PROMEDIO MAYOR O IGUAL A 14 ===\")\n",
    "for i in range(len(estudiantes)):\n",
    "    if promedios[i] >=14:\n",
    "        print(f\"{estudiantes[i]}: {promedios[i]:.2f} de promedio\")\n",
    "\n",
    "## d) Identifica al estudiante con el promedio más alto y al estudiante con el promedio más bajo. Muestra el apellido y el promedio de ambos.\n",
    "max_promedio = max(promedios)\n",
    "min_promedio = min(promedios)\n",
    "\n",
    "estudiante_max = estudiantes[promedios.index(max_promedio)]\n",
    "estudiante_min = estudiantes[promedios.index(min_promedio)]\n",
    "\n",
    "print(\"\\n=== ESTUDIANTES CON EL PROMEDIO MÁS ALTO Y EL MÁS BAJO ===\")\n",
    "print(f\"Estudiante con el promedio más alto:{estudiante_max} - {max_promedio:.2f}\")\n",
    "print(f\"Estudiantes con el promedio más bajo {estudiante_min} - {min_promedio:.2f}\")\n"
   ]
  },
  {
   "cell_type": "markdown",
   "metadata": {},
   "source": [
    "---\n",
    "## Ejercicio 2: Análisis de Flujo Turístico en Huaraz (9 puntos)\n",
    "\n",
    "Trabajas en la Dirección de Turismo de Huaraz y necesitas analizar los datos de visitantes que llegaron durante una semana a los principales atractivos turísticos. Los datos están organizados por día de la semana y destino:"
   ]
  },
  {
   "cell_type": "code",
   "execution_count": null,
   "metadata": {},
   "outputs": [],
   "source": [
    "# Datos iniciales - NO MODIFICAR\n",
    "dias_semana = [\"Lunes\", \"Martes\", \"Miércoles\", \"Jueves\", \"Viernes\", \"Sábado\", \"Domingo\"]\n",
    "destinos = [\"Laguna 69\", \"Pastoruri\", \"Chavín\", \"Santa Cruz\"]\n",
    "\n",
    "# Matriz de visitantes [día][destino]\n",
    "visitantes = [\n",
    "    [45, 30, 25, 40],   # Lunes\n",
    "    [50, 35, 30, 45],   # Martes\n",
    "    [40, 25, 20, 35],   # Miércoles\n",
    "    [55, 40, 35, 50],   # Jueves\n",
    "    [65, 45, 40, 60],   # Viernes\n",
    "    [85, 70, 65, 80],   # Sábado\n",
    "    [90, 75, 70, 85],   # Domingo\n",
    "]\n",
    "\n",
    "print(\"=== FLUJO TURÍSTICO SEMANAL EN HUARAZ ===\")\n",
    "print(\"Día\\t\\tLaguna 69\\tPastoruri\\tChavín\\t\\tSanta Cruz\")\n",
    "for i in range(len(dias_semana)):\n",
    "    print(f\"{dias_semana[i]}\\t\\t{visitantes[i][0]}\\t\\t{visitantes[i][1]}\\t\\t{visitantes[i][2]}\\t\\t{visitantes[i][3]}\")"
   ]
  },
  {
   "cell_type": "markdown",
   "metadata": {},
   "source": "**Desarrolla lo siguiente:**\n\na) Calcula el total de visitantes por destino durante toda la semana y determina cuál fue el destino más visitado.\n\nb) Encuentra qué día de la semana tuvo el mayor flujo turístico general (sumando todos los destinos).\n\nc) Identifica el día y destino específico donde se registró el mayor número de visitantes de toda la semana.\n\nd) Calcula el promedio semanal de visitantes para cada destino y determina cuáles destinos tuvieron más visitantes que su promedio semanal el día domingo.\n\ne) Crea una lista con los días que tuvieron una diferencia superior a 30 visitantes entre el destino más visitado y el menos visitado de ese día."
  },
  {
   "cell_type": "code",
   "metadata": {
    "ExecuteTime": {
     "end_time": "2025-09-10T14:48:23.216452Z",
     "start_time": "2025-09-10T14:48:23.211578Z"
    }
   },
   "source": [
    "# Datos iniciales - NO MODIFICAR\n",
    "dias_semana = [\"Lunes\", \"Martes\", \"Miércoles\", \"Jueves\", \"Viernes\", \"Sábado\", \"Domingo\"]\n",
    "destinos = [\"Laguna 69\", \"Pastoruri\", \"Chavín\", \"Santa Cruz\"]\n",
    "\n",
    "# Matriz de visitantes [día][destino]\n",
    "visitantes = [\n",
    "    [45, 30, 25, 40],   # Lunes\n",
    "    [50, 35, 30, 45],   # Martes\n",
    "    [40, 25, 20, 35],   # Miércoles\n",
    "    [55, 40, 35, 50],   # Jueves\n",
    "    [65, 45, 40, 60],   # Viernes\n",
    "    [85, 70, 65, 80],   # Sábado\n",
    "    [90, 75, 70, 85],   # Domingo\n",
    "]\n",
    "\n",
    "print(\"=== FLUJO TURÍSTICO SEMANAL EN HUARAZ ===\")\n",
    "print(\"Día\\t\\tLaguna 69\\tPastoruri\\tChavín\\t\\tSanta Cruz\")\n",
    "for i in range(len(dias_semana)):\n",
    "    print(f\"{dias_semana[i]}\\t\\t{visitantes[i][0]}\\t\\t{visitantes[i][1]}\\t\\t{visitantes[i][2]}\\t\\t{visitantes[i][3]}\")\n",
    "\n",
    "## a) Calcula el total de visitantes por destino durante toda la semana y determina cuál fue el destino más visitado.\n",
    "totales_distintos = [0,0,0,0]\n",
    "for i in range(len(destinos)):\n",
    "    for j in range(len(dias_semana)):\n",
    "        totales_distintos[i] += visitantes[j][i]\n",
    "\n",
    "destinos_mas_visitado = destinos[totales_distintos.index(max(totales_distintos))]\n",
    "print(f\"\\n=== TOTAL DE VISITANTES POR DESTINO ===\")\n",
    "for i in range(len(destinos)):\n",
    "    print(f\"{destinos[i]}: {totales_distintos[i]} visitantes\")\n",
    "\n",
    "print(f\"\\nEl destino más visitado fue {destinos_mas_visitado}\")\n",
    "## b) Encuentra qué día de la semana tuvo el mayor flujo turístico general (sumando todos los destinos).\n",
    "flujos_dia= [sum(visitantes[i]) for i in range(len(dias_semana))]\n",
    "dia_mayor_flujo = dias_semana[flujos_dia.index(max(flujos_dia))]\n",
    "\n",
    "print(f\"\\ n=== DÍA CON MAYOR FLUJO TÚRISTICO ===\")\n",
    "print(f\"El día con mayor flujo turistico fue {dia_mayor_flujo} con un total de {max(flujos_dia)} visitantes.\")\n",
    "\n",
    "\n",
    "## c) Identifica el día y destino específico donde se registró el mayor número de visitantes de toda la semana.\n",
    "\n",
    "## d) Calcula el promedio semanal de visitantes para cada destino y determina cuáles destinos tuvieron más visitantes que su promedio semanal el día domingo.\n",
    "\n",
    "## e) Crea una lista con los días que tuvieron una diferencia superior a 30 visitantes entre el destino más visitado y el menos visitado de ese día."
   ],
   "outputs": [
    {
     "name": "stdout",
     "output_type": "stream",
     "text": [
      "=== FLUJO TURÍSTICO SEMANAL EN HUARAZ ===\n",
      "Día\t\tLaguna 69\tPastoruri\tChavín\t\tSanta Cruz\n",
      "Lunes\t\t45\t\t30\t\t25\t\t40\n",
      "Martes\t\t50\t\t35\t\t30\t\t45\n",
      "Miércoles\t\t40\t\t25\t\t20\t\t35\n",
      "Jueves\t\t55\t\t40\t\t35\t\t50\n",
      "Viernes\t\t65\t\t45\t\t40\t\t60\n",
      "Sábado\t\t85\t\t70\t\t65\t\t80\n",
      "Domingo\t\t90\t\t75\t\t70\t\t85\n"
     ]
    }
   ],
   "execution_count": 1
  },
  {
   "cell_type": "markdown",
   "metadata": {},
   "source": [
    "---\n",
    "## Evaluación\n",
    "\n",
    "### Distribución de Puntos:\n",
    "- **Ejercicio 1:** ___ / 6 puntos\n",
    "- **Ejercicio 2:** ___ / 9 puntos\n",
    "\n",
    "**CALIFICACIÓN TOTAL:** ___ / 15 puntos\n",
    "\n",
    "### Criterios de Evaluación:\n",
    "- Correcta manipulación de arreglos unidimensionales y bidimensionales\n",
    "- Uso apropiado de estructuras de control (bucles, condicionales)\n",
    "- Aplicación correcta de operaciones matemáticas\n",
    "- Código limpio y bien estructurado\n",
    "- Resultados correctos y claramente presentados"
   ]
  },
  {
   "metadata": {},
   "cell_type": "code",
   "outputs": [],
   "execution_count": null,
   "source": ""
  }
 ],
 "metadata": {
  "kernelspec": {
   "display_name": "Python 3",
   "language": "python",
   "name": "python3"
  },
  "language_info": {
   "codemirror_mode": {
    "name": "ipython",
    "version": 3
   },
   "file_extension": ".py",
   "mimetype": "text/x-python",
   "name": "python",
   "nbconvert_exporter": "python",
   "pygments_lexer": "ipython3",
   "version": "3.8.5"
  }
 },
 "nbformat": 4,
 "nbformat_minor": 4
}
